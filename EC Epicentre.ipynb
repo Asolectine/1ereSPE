{
 "cells": [
  {
   "cell_type": "markdown",
   "metadata": {},
   "source": [
    "# Localiser l'épicentre d'un séisme"
   ]
  },
  {
   "cell_type": "code",
   "execution_count": 2,
   "metadata": {},
   "outputs": [
    {
     "ename": "ModuleNotFoundError",
     "evalue": "No module named 'folium'",
     "output_type": "error",
     "traceback": [
      "\u001b[1;31m---------------------------------------------------------------------------\u001b[0m",
      "\u001b[1;31mModuleNotFoundError\u001b[0m                       Traceback (most recent call last)",
      "\u001b[1;32m<ipython-input-2-173a519ec3a7>\u001b[0m in \u001b[0;36m<module>\u001b[1;34m\u001b[0m\n\u001b[0;32m      1\u001b[0m \u001b[0mget_ipython\u001b[0m\u001b[1;33m(\u001b[0m\u001b[1;33m)\u001b[0m\u001b[1;33m.\u001b[0m\u001b[0mrun_line_magic\u001b[0m\u001b[1;33m(\u001b[0m\u001b[1;34m'matplotlib'\u001b[0m\u001b[1;33m,\u001b[0m \u001b[1;34m'notebook'\u001b[0m\u001b[1;33m)\u001b[0m\u001b[1;33m\u001b[0m\u001b[1;33m\u001b[0m\u001b[0m\n\u001b[1;32m----> 2\u001b[1;33m \u001b[1;32mimport\u001b[0m \u001b[0mfolium\u001b[0m\u001b[1;33m\u001b[0m\u001b[1;33m\u001b[0m\u001b[0m\n\u001b[0m",
      "\u001b[1;31mModuleNotFoundError\u001b[0m: No module named 'folium'"
     ]
    }
   ],
   "source": [
    "# Ce programme en Langage Python permet de positionner l'épicentre d'un séisme \n",
    "# à partir de stations de sismographie.\n",
    "\n",
    "# Importe la bobliothèque folium qui contient des éléments de la carte\n",
    "import folium\n",
    "\n",
    "# Crée une carte que l'on nomme CarteEpicentre\n",
    "# Cette carte est centrée sur la latitude et la longitude, indiquées dans \n",
    "# Location=[,] et zoom_start donne la valeur du zoom utilisé pour la carte\n",
    "CarteEpicentre=folium.Map(location=[10,-60],zoom_start=5)\n",
    "\n",
    "# Crée des tableaux de valeurs avec la latitude, la longitude, le nom, \n",
    "# et la distance à l'épicentre pour chaque station de sismographie\n",
    "lat=[10.191,18.54,16.2706]\n",
    "long=[-66.832,-72.32,-61.504]\n",
    "nom_station=['LFCV','HPAP','GCAPE']\n",
    "distance_epicentre=[1.93,2.39]\n",
    "\n",
    "# Crée 2 cercles de rayon L autour des stations LFCV et HPAP\n",
    "# le rayon est calculé à partir de L et d'un facteur d'échelle adapté\n",
    "# au zoom choisi (ici 210)\n",
    "for i in range (2):\n",
    "    folium.CircleMarker(lat[i],long[i]),\n",
    "    radius=(210*distance-epicentre[i]).add_to(CarteEpicentre)\n",
    "    \n",
    "# Enfin on crée un fichier dans un format lisible pour l'utilisateur dont\n",
    "# on indique le nom \"CarteFinale\" et l'extension \"html\"\n",
    "CarteEpicentre.save('CarteFinale.html')"
   ]
  },
  {
   "cell_type": "code",
   "execution_count": null,
   "metadata": {},
   "outputs": [],
   "source": []
  }
 ],
 "metadata": {
  "kernelspec": {
   "display_name": "Python 3",
   "language": "python",
   "name": "python3"
  },
  "language_info": {
   "codemirror_mode": {
    "name": "ipython",
    "version": 3
   },
   "file_extension": ".py",
   "mimetype": "text/x-python",
   "name": "python",
   "nbconvert_exporter": "python",
   "pygments_lexer": "ipython3",
   "version": "3.7.6"
  }
 },
 "nbformat": 4,
 "nbformat_minor": 4
}
