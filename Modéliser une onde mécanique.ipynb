{
 "cells": [
  {
   "cell_type": "markdown",
   "metadata": {},
   "source": [
    "# Modéliser une onde mécanique"
   ]
  },
  {
   "cell_type": "code",
   "execution_count": null,
   "metadata": {},
   "outputs": [],
   "source": [
    "%matplotlib notebook\n",
    " \n",
    "import numpy as np\n",
    "import matplotlib.pyplot as plt\n",
    "import matplotlib.animation as animation\n",
    " "
   ]
  },
  {
   "cell_type": "markdown",
   "metadata": {},
   "source": [
    "Paramétrage de l'onde F(x,t) : fonction (F) de l'espace (x) et du temps (t)."
   ]
  },
  {
   "cell_type": "markdown",
   "metadata": {},
   "source": [
    "Compléter en ajoutant : des valeurs (indiquer) ou des formules littérales (calculer)"
   ]
  },
  {
   "cell_type": "code",
   "execution_count": null,
   "metadata": {},
   "outputs": [],
   "source": [
    "A =      #indiquer l'amplitude de l'onde\n",
    "f =      #indiquer la fréquence de l'onde\n",
    "T =      #calculer période de l'onde\n",
    "c=       #indiquer la vitesse de l'onde\n",
    "l=       #calculer longueur d'onde de l'onde\n",
    "phi=0.1  #déphasage"
   ]
  },
  {
   "cell_type": "markdown",
   "metadata": {},
   "source": [
    "Visualisation de l'onde progressive. Pour arrêter le temps, appuyer sur le bouton bleu en haut de la fenêtre."
   ]
  },
  {
   "cell_type": "code",
   "execution_count": null,
   "metadata": {},
   "outputs": [],
   "source": [
    "fig, ax = plt.subplots()\n",
    "x = np.arange(0, 4*l, 4*l/100)\n",
    "\n",
    "line, = ax.plot(x, A*np.cos(2*np.pi*(x/l)))\n",
    " \n",
    "def animate(t):\n",
    "    line.set_ydata(A*np.cos(2*np.pi*(x/l - t / T))+phi)  # équation de l'onde.\n",
    "    return line,\n",
    " \n",
    "ani = animation.FuncAnimation(\n",
    "    fig, animate, frames=np.arange(0, 2*T, T/100),interval=20, blit=True)\n",
    "plt.grid(True) \n",
    "r=2E-3/(T/100)  #facteur de ralentissement pour l'affichage\n",
    "plt.title(f\"affichage ralenti {r} fois\")\n",
    "plt.xlabel('x (m)')\n",
    "plt.show()"
   ]
  }
 ],
 "metadata": {
  "kernelspec": {
   "display_name": "Python 3",
   "language": "python",
   "name": "python3"
  },
  "language_info": {
   "codemirror_mode": {
    "name": "ipython",
    "version": 3
   },
   "file_extension": ".py",
   "mimetype": "text/x-python",
   "name": "python",
   "nbconvert_exporter": "python",
   "pygments_lexer": "ipython3",
   "version": "3.7.6"
  }
 },
 "nbformat": 4,
 "nbformat_minor": 4
}
