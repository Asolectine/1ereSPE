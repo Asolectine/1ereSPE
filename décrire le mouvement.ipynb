{
 "cells": [
  {
   "cell_type": "markdown",
   "metadata": {},
   "source": [
    "# Décrire le mouvement"
   ]
  },
  {
   "cell_type": "markdown",
   "metadata": {},
   "source": [
    "Importation des bibliothèques utiles"
   ]
  },
  {
   "cell_type": "code",
   "execution_count": null,
   "metadata": {},
   "outputs": [],
   "source": [
    "import matplotlib.pyplot as plt\n",
    "from scipy import array"
   ]
  },
  {
   "cell_type": "markdown",
   "metadata": {},
   "source": [
    "entrer les données expérimentales"
   ]
  },
  {
   "cell_type": "code",
   "execution_count": null,
   "metadata": {},
   "outputs": [],
   "source": [
    "x=[  ,  ,  ,  ,  ,  ,  ]  #entrer les abscisses des positions, en utilisant le point pour la décimale : Ex 1.3\n",
    "y=[  ,  ,  ,  ,  ,  ,  ]  #entrer les ordonnées des positions, en utilisant le point pour la décimale : Ex 1.3\n",
    "t=                        #écrire la valeur de l'intervalle de temps en seconde"
   ]
  },
  {
   "cell_type": "markdown",
   "metadata": {},
   "source": [
    "Représentation de la trajectoire et de la variation du vitesse du système"
   ]
  },
  {
   "cell_type": "code",
   "execution_count": null,
   "metadata": {},
   "outputs": [],
   "source": [
    "v_x=[0]\n",
    "v_y=[0]\n",
    "for i in range(1,6):\n",
    "    v_x.append( )     #écrire la formule de la vitesse pour les abscisses de position. On note x[i] l'abscisse du point Mi\n",
    "    v_y.append( )     #écrire la formule de la vitesse pour les ordonnées de position. On note y[i] l'abscisse du point Mi\n",
    "\n",
    "def representation_graphique(x,y,v_x,v_y):\n",
    "    plt.figure(figsize=(10,10))\n",
    "    plt.scatter(x,y,marker='+')\n",
    "    plt.title('Vecteur vitesse')\n",
    "    plt.xlabel('x en (m)')\n",
    "    plt.ylabel('Altitude y en (m)')\n",
    "    plt.xlim(0.8*min(x),1.2*max(x))\n",
    "    plt.ylim(0.8*min(y),1.2*max(y))\n",
    "    for i in range(0,len(v_x),1):\n",
    "        V=plt.quiver(x[i], y[i] ,5*v_x[i] ,5*v_y[i],\n",
    "         scale_units='xy',angles='xy', scale=12)\n",
    "representation_graphique(x,y,v_x,v_y)"
   ]
  },
  {
   "cell_type": "markdown",
   "metadata": {},
   "source": [
    "Représentation de la trajectoire et de la variation du vecteur vitesse du système"
   ]
  },
  {
   "cell_type": "code",
   "execution_count": null,
   "metadata": {},
   "outputs": [],
   "source": [
    "Dv_x=[0,0]\n",
    "Dv_y=[0,0]\n",
    "for i in range(2,len(v_x)-1):\n",
    "    Dv_x.append( ) #écrire la formule de la variation de l'abscisse du vecteur vitesse. On note v_x[i] l'abscisse du vecteur vitesse au point Mi\n",
    "    Dv_y.append( ) #écrire la formule de la variation de l'ordonnée du vecteur vitesse. On note v_y[i] l'ordonnée du vecteur vitesse au point Mi\n",
    "Dv_x.append(0)\n",
    "Dv_y.append(0)\n",
    "def representation_graphique(x,y,Dv_x,Dv_y):\n",
    "    plt.figure(figsize=(10,10))\n",
    "    plt.scatter(x,y,marker='+')\n",
    "    plt.title('variation du Vecteur vitesse')\n",
    "    plt.xlabel('x en (m)')\n",
    "    plt.ylabel('Altitude y en (m)')\n",
    "    plt.xlim(0.8*min(x),1.2*max(x))\n",
    "    plt.ylim(0.8*min(y),1.2*max(y))\n",
    "    for i in range(0,len(v_x),1):\n",
    "        V=plt.quiver(x[i], y[i] ,6*Dv_x[i] ,6*Dv_y[i],\n",
    "         scale_units='xy',angles='xy', scale=12)\n",
    "representation_graphique(x,y,Dv_x,Dv_y)"
   ]
  }
 ],
 "metadata": {
  "kernelspec": {
   "display_name": "Python 3",
   "language": "python",
   "name": "python3"
  },
  "language_info": {
   "codemirror_mode": {
    "name": "ipython",
    "version": 3
   },
   "file_extension": ".py",
   "mimetype": "text/x-python",
   "name": "python",
   "nbconvert_exporter": "python",
   "pygments_lexer": "ipython3",
   "version": "3.7.6"
  }
 },
 "nbformat": 4,
 "nbformat_minor": 4
}
