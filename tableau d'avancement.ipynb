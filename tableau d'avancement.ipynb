{
 "cells": [
  {
   "cell_type": "markdown",
   "metadata": {},
   "source": [
    "# Tableau d'avancement interactif d'une réaction de combustion de butan"
   ]
  },
  {
   "cell_type": "markdown",
   "metadata": {},
   "source": [
    "d'après https://infoforall.fr/physique/physique-act030.html"
   ]
  },
  {
   "cell_type": "code",
   "execution_count": 1,
   "metadata": {},
   "outputs": [],
   "source": [
    "import matplotlib.pyplot as plt"
   ]
  },
  {
   "cell_type": "markdown",
   "metadata": {},
   "source": [
    "Compléter le programme en indiquant les coefficients stochiométriques des différentes espèces chimiques"
   ]
  },
  {
   "cell_type": "code",
   "execution_count": 3,
   "metadata": {},
   "outputs": [],
   "source": [
    "cs_C4H10 =   # butane\n",
    "cs_O2 =      # dioxygène\n",
    "cs_CO2 =     # dioxyde de carbone\n",
    "cs_H2O =     # eau"
   ]
  },
  {
   "cell_type": "markdown",
   "metadata": {},
   "source": [
    "Programme qui permet d'interagir avec l'utilisateur dans le but de tracer l'évolution des quantités de matière en fonction de l'avancement"
   ]
  },
  {
   "cell_type": "code",
   "execution_count": null,
   "metadata": {},
   "outputs": [],
   "source": [
    "#Initialisation des quantités de matières initiales (en mol)\n",
    "no_C4H10 = float(input(\"Que vaut la quantité de matière initiale de butane ? : \"))\n",
    "no_O2 = float(input(\"Que vaut la quantité de matière initiale de dioxygène ? : \"))\n",
    "no_CO2 = 0\n",
    "no_H2O = 0\n",
    "\n",
    "# Calcul de l'avancement maximum\n",
    "x_max_C4H10 = no_C4H10 / cs_C4H10\n",
    "x_max_O2 = no_O2 / cs_O2\n",
    "x_max = min(x_max_O2,x_max_C4H10)\n",
    "\n",
    "# Création des listes\n",
    "x = [ 0, x_max ]\n",
    "n_C4H10 = [ (no_C4H10-cs_C4H10*valeur) for valeur in x]\n",
    "n_O2 = [ (no_O2 - cs_O2*valeur) for valeur in x]\n",
    "n_CO2 = [ (no_CO2 + cs_CO2*valeur) for valeur in x]\n",
    "n_H2O = [ (no_H2O + cs_H2O*valeur) for valeur in x]\n",
    "\n",
    "# Création des courbes\n",
    "\n",
    "plt.plot(x, n_C4H10, label=\"C4H10\", color='orange')\n",
    "plt.plot(x, n_O2, label=\"O2\", color='red')\n",
    "plt.plot(x, n_CO2, label=\"CO2\", color='black')\n",
    "plt.plot(x, n_H2O, label=\"H2O\", color='blue')\n",
    "\n",
    "# Réglages axes et grille\n",
    "liste_des_n_max = [ max(n_C4H10), max(n_O2), max(n_CO2), max(n_H2O) ]\n",
    "n_max = max(liste_des_n_max)\n",
    "plt.xlabel(\"Avancement (mol)\")\n",
    "plt.ylabel(\"Quantité de matière (mol)\")\n",
    "plt.title(\"Evolution de la réaction de combustion\")\n",
    "plt.legend(loc='upper center')\n",
    "plt.axis([0,x_max,0,n_max])\n",
    "plt.grid()\n",
    "\n",
    "# Création de l'image\n",
    "nom_du_fichier = \"courbes_avancement_\"+str(no_C4H10)+str(no_O2)\n",
    "plt.savefig(nom_du_fichier+\".png\")\n",
    "\n",
    "# Affichage de l'interface\n",
    "plt.show()"
   ]
  }
 ],
 "metadata": {
  "kernelspec": {
   "display_name": "Python 3",
   "language": "python",
   "name": "python3"
  },
  "language_info": {
   "codemirror_mode": {
    "name": "ipython",
    "version": 3
   },
   "file_extension": ".py",
   "mimetype": "text/x-python",
   "name": "python",
   "nbconvert_exporter": "python",
   "pygments_lexer": "ipython3",
   "version": "3.7.6"
  }
 },
 "nbformat": 4,
 "nbformat_minor": 4
}
