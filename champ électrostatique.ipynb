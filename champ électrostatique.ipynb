{
 "cells": [
  {
   "cell_type": "markdown",
   "metadata": {},
   "source": [
    "# cartographie d'un champ électrostatique"
   ]
  },
  {
   "cell_type": "markdown",
   "metadata": {},
   "source": [
    " ### Un objet possédant une charge modifie les propriétés de l'espace : il crée un champ électrostatique "
   ]
  },
  {
   "cell_type": "code",
   "execution_count": 7,
   "metadata": {},
   "outputs": [],
   "source": [
    "import numpy as np\n",
    "import matplotlib.pylab as plt\n"
   ]
  },
  {
   "cell_type": "markdown",
   "metadata": {},
   "source": [
    "Constantes du problème"
   ]
  },
  {
   "cell_type": "code",
   "execution_count": 8,
   "metadata": {},
   "outputs": [],
   "source": [
    "# taille de la zone en m\n",
    "xmin=-2\n",
    "ymin=-2\n",
    "xmax =2.5\n",
    "ymax=2.5\n",
    "h=0.5                # Pas de la zone en m\n",
    "K=8.99E9                # Constante de Coulomb en N.m².C-²\n",
    "e=1.60E-19              # Charge élémentaire en C\n",
    "\n",
    "### Coordonnées (xB,yB) des points pour visualiser le champs\n",
    "XX=np.arange(xmin,xmax,h)\n",
    "YY=np.arange(ymin,ymax,h)\n",
    "xB,yB=np.meshgrid(XX,YY)\n",
    "\n",
    "### Initialisation\n",
    "Ex2=None"
   ]
  },
  {
   "cell_type": "markdown",
   "metadata": {},
   "source": [
    "Caractéristiques de la première particule"
   ]
  },
  {
   "cell_type": "code",
   "execution_count": 14,
   "metadata": {},
   "outputs": [],
   "source": [
    "q1=        # Charge électrique\n",
    "\n",
    "#position\n",
    "xA1=       # Abscisse en m\n",
    "yA1=       # Ordonnée en m"
   ]
  },
  {
   "cell_type": "markdown",
   "metadata": {},
   "source": [
    "Propriétés du champ créé"
   ]
  },
  {
   "cell_type": "code",
   "execution_count": 15,
   "metadata": {},
   "outputs": [
    {
     "name": "stderr",
     "output_type": "stream",
     "text": [
      "C:\\Users\\fofie\\anaconda3\\lib\\site-packages\\ipykernel_launcher.py:5: RuntimeWarning: invalid value encountered in true_divide\n",
      "  \"\"\"\n",
      "C:\\Users\\fofie\\anaconda3\\lib\\site-packages\\ipykernel_launcher.py:6: RuntimeWarning: invalid value encountered in true_divide\n",
      "  \n"
     ]
    }
   ],
   "source": [
    "## Distance entre le corps 1 et point (x,y)\n",
    "r1=((xB-xA1)**2+(yB-yA1)**2)**0.5\n",
    "\n",
    "### Coordonnées cartésiennes champ E1 \n",
    "Ex1=K*q1*(xB-xA1)/r1**3\n",
    "Ey1=K*q1*(yB-yA1)/r1**3\n"
   ]
  },
  {
   "cell_type": "markdown",
   "metadata": {},
   "source": [
    "Ajout d'un deuxième corps en deuxième partie de l'étude"
   ]
  },
  {
   "cell_type": "code",
   "execution_count": 16,
   "metadata": {},
   "outputs": [
    {
     "name": "stderr",
     "output_type": "stream",
     "text": [
      "C:\\Users\\fofie\\anaconda3\\lib\\site-packages\\ipykernel_launcher.py:11: RuntimeWarning: invalid value encountered in true_divide\n",
      "  # This is added back by InteractiveShellApp.init_path()\n",
      "C:\\Users\\fofie\\anaconda3\\lib\\site-packages\\ipykernel_launcher.py:12: RuntimeWarning: invalid value encountered in true_divide\n",
      "  if sys.path[0] == '':\n"
     ]
    }
   ],
   "source": [
    "### Caractéristiques\n",
    "\n",
    "\n",
    "\n",
    "### Propriétés du champ créé"
   ]
  },
  {
   "cell_type": "markdown",
   "metadata": {},
   "source": [
    "Champ généré"
   ]
  },
  {
   "cell_type": "code",
   "execution_count": null,
   "metadata": {},
   "outputs": [],
   "source": [
    "### Coordonnées du champ E\n",
    "if Ex2 is None:  \n",
    "    Ex=Ex1 \n",
    "    Ey=Ey1\n",
    "else:\n",
    "    Ex=Ex1+Ex2\n",
    "    Ey=Ey1+Ey2\n",
    "\n",
    "\n",
    "\n",
    "### Positions des différentes particules test\n",
    "if Ex2 is None :\n",
    "    X_particules=np.array([xA1])\n",
    "    Y_particules=np.array([yA1])\n",
    "else :\n",
    "    X_particules=np.array([xA1,xA2])\n",
    "    Y_particules=np.array([yA1,yA2])\n",
    "\n",
    "### Tracé des vecteurs normalisés\n",
    "plt.rcParams['axes.formatter.use_locale'] = True\n",
    "plt.figure(1, figsize=(10, 10))\n",
    "plt.quiver(xB,yB,Ex,Ey,scale=7E-8)\n",
    "plt.plot(X_particules,Y_particules,\"r.\",label=\"Particule(s)\")\n",
    "plt.legend(loc='upper right')\n",
    "plt.xlabel(\"x (m)\")\n",
    "plt.ylabel(\"y (m)\")\n",
    "plt.title(\"champ électrostatique\")\n",
    "plt.show()"
   ]
  }
 ],
 "metadata": {
  "kernelspec": {
   "display_name": "Python 3",
   "language": "python",
   "name": "python3"
  },
  "language_info": {
   "codemirror_mode": {
    "name": "ipython",
    "version": 3
   },
   "file_extension": ".py",
   "mimetype": "text/x-python",
   "name": "python",
   "nbconvert_exporter": "python",
   "pygments_lexer": "ipython3",
   "version": "3.7.6"
  }
 },
 "nbformat": 4,
 "nbformat_minor": 4
}
