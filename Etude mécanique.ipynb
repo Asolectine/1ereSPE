{
 "cells": [
  {
   "cell_type": "markdown",
   "metadata": {},
   "source": [
    "# Etude en mécanique, avec un import de fichier"
   ]
  },
  {
   "cell_type": "markdown",
   "metadata": {},
   "source": [
    "<div class=\"alert alert-block alert-danger\"> L'objectif est de mener une analyse complète du mouvement d'un système dans un référentiel galiléen. C'est à dire établir et représenter :<ul> <li> son vecteur vitesse pour chacune des positions <li> la variation du vecteur vitesse pour chacune des positions <li> une étude énergétique (cinétique, potentielle et mécanique) </li> </ul>"
   ]
  },
  {
   "cell_type": "code",
   "execution_count": 1,
   "metadata": {},
   "outputs": [],
   "source": [
    "import numpy as np\n",
    "import matplotlib.pyplot as plt\n",
    "import pandas as pd\n",
    "import matplotlib.patches as mpatches\n",
    "from math import *\n",
    "from PIL import Image \n",
    "from IPython.display import display"
   ]
  },
  {
   "cell_type": "markdown",
   "metadata": {},
   "source": [
    "<b> Importer les données expérimentales. </b>"
   ]
  },
  {
   "cell_type": "markdown",
   "metadata": {},
   "source": [
    "<div class=\"alert alert-block alert-info\">\n",
    "        <b> Consignes </b> \n",
    "<br> Charger vos données, au format csv. Dans l'exemple,le nom du fichier est <i>pointage.csv</i>.\n",
    "<ul>\n",
    "<li>Le fichier de données ne doit contenir <b> QUE</b> les valeurs expérimentales, il faut donc supprimer d'abord toute entête de paramètre, unité, titre etc.... </li>\n",
    "<li>Le fichier doit être chargé (glisser déposer) dans le repertoire github clône créé par mybinder.  </li>\n",
    "<li>Cliquer ensuite sur le bouton Téléverser.  </li>\n",
    "</ul>"
   ]
  },
  {
   "cell_type": "code",
   "execution_count": 3,
   "metadata": {},
   "outputs": [
    {
     "data": {
      "image/png": "[encoded data removed]",
      "text/plain": [
       "<PIL.PngImagePlugin.PngImageFile image mode=RGBA size=1153x137 at 0x17637398148>"
      ]
     },
     "metadata": {},
     "output_type": "display_data"
    }
   ],
   "source": [
    "display(Image.open(\"Etude mécanique.PNG\"))"
   ]
  },
  {
   "cell_type": "markdown",
   "metadata": {},
   "source": [
    "<div class=\"alert alert-block alert-info\">\n",
    "        <b> Consignes </b> \n",
    "<br> Modifier le programme \n",
    "<ul>\n",
    "<li> Il faut indiquer le nom de votre fichier en csv que vous avez impoté. L'exemple par défaut est <i> pointage.csv </i>, il convient de changer bien évidement cette chaine de caractères dans le code. </li> \n",
    "<li> Attention à conserver les ' ' déjà présent ci-dessous.</li>\n",
    "</ul>"
   ]
  },
  {
   "cell_type": "code",
   "execution_count": null,
   "metadata": {},
   "outputs": [],
   "source": [
    "mesures=pd.read_csv(r'pointage.csv',sep=';',decimal=',', header=None)"
   ]
  },
  {
   "cell_type": "markdown",
   "metadata": {},
   "source": [
    "<b> Extraction des données relatives à chaque position </b>"
   ]
  },
  {
   "cell_type": "markdown",
   "metadata": {},
   "source": [
    "<div class=\"alert alert-block alert-info\">\n",
    "        <b> Consigne </b> \n",
    "<ul><li>Compléter le programme en indiquant le numéro de colonne correspondant à chacune des grandeurs à indiquées.</li><li>Relever la valeur de Tau.</li></ul>"
   ]
  },
  {
   "cell_type": "markdown",
   "metadata": {},
   "source": [
    "<div class=\"alert alert-block alert-success\">\n",
    "    <details>\n",
    "        <summary> <b> Aides </b> </summary>\n",
    "        <ul>\n",
    "            <li> la numérotation commence par 0! </li>\n",
    "        </ul>\n",
    "    </details>\n",
    "</div>"
   ]
  },
  {
   "cell_type": "code",
   "execution_count": null,
   "metadata": {},
   "outputs": [],
   "source": [
    "mesures=pd.DataFrame(mesures).to_numpy()\n",
    "\n",
    "# extraction du nombre totale de positions successives mesurées appelé nbr\n",
    "nbr=len(mesures)\n",
    "\n",
    "# extraction du temps et des positions au cours du mouvement\n",
    "t=list(mesures.T[XXX])  #Indiquer le numéro de la colonne correspondant aux valeurs de la durée t \n",
    "x=list(mesures.T[XXX])  #Indiquer le numéro de la colonne correspondant aux valeurs des abscisses x\n",
    "y=list(mesures.T[XXX])  #Indiquer le numéro de la colonne correspondant aux valeurs des ordonnées y\n",
    "\n",
    "# Calcul de l'intervalle Tau de temps entre deux positions successives\n",
    "Tau=t[1]-t[0]"
   ]
  },
  {
   "cell_type": "code",
   "execution_count": null,
   "metadata": {},
   "outputs": [],
   "source": [
    "t=t[1:-1]"
   ]
  },
  {
   "cell_type": "markdown",
   "metadata": {},
   "source": [
    "### 1. Cinématique du mouvement"
   ]
  },
  {
   "cell_type": "markdown",
   "metadata": {},
   "source": [
    "<b> Représentation de la trajectoire et du vecteur vitesse du système </b>"
   ]
  },
  {
   "cell_type": "markdown",
   "metadata": {},
   "source": [
    "<div class=\"alert alert-block alert-info\">\n",
    "        <b> Consigne </b> \n",
    "    <ul><li>Etablir la formule du vecteur vitesse pour la position Mi.</li>\n",
    "   <li> Compléter le programme en décomposant cette formule selon les coordonnées.</li></ul>"
   ]
  },
  {
   "cell_type": "markdown",
   "metadata": {},
   "source": [
    "<div class=\"alert alert-block alert-success\">\n",
    "    <details>\n",
    "        <summary> <b> Aides </b> </summary>\n",
    "        <ul>\n",
    "            <li> Pour chaque position Mi il faut regarder le point d'avant (Mi-1) et le point d'après (Mi+1) pour définir la vitesse au passage en Mi </li>\n",
    "            <li> le temps du trajet se défini d'après la constante Tau qui représente la durée entre deux positions successives </li>\n",
    "        </ul>\n",
    "    </details>\n",
    "</div>"
   ]
  },
  {
   "cell_type": "code",
   "execution_count": null,
   "metadata": {},
   "outputs": [],
   "source": [
    "v_x=[]\n",
    "v_y=[]\n",
    "for i in range(1,len(x)-1):\n",
    "    v_x.append(XXX)     #écrire la formule de la vitesse pour les abscisses de position. On note x[i] l'abscisse du point Mi\n",
    "    v_y.append(XXX)     #écrire la formule de la vitesse pour les ordonnées de position. On note y[i] l'abscisse du point Mi\n",
    "\n",
    "def representation_graphique1(x,y,v_x,v_y):\n",
    "    plt.figure(figsize=(10,10))\n",
    "    plt.scatter(x,y,marker='+')\n",
    "    plt.title('Vecteur vitesse')\n",
    "    plt.xlabel('x en (m)')\n",
    "    plt.ylabel('Altitude y en (m)')\n",
    "    plt.xlim(0.8*min(x),1.2*max(x))\n",
    "    plt.ylim(0.8*min(y),1.2*max(y))\n",
    "    for i in range(0,len(v_x),1):\n",
    "        V=plt.quiver(x[i+1], y[i+1] ,2*v_x[i] ,2*v_y[i],\n",
    "         scale_units='xy',angles='xy', scale=12)\n",
    "representation_graphique1(x,y,v_x,v_y)"
   ]
  },
  {
   "cell_type": "markdown",
   "metadata": {},
   "source": [
    "<b> Calcul de la norme des différents vecteur vitesse nommés vit </b>"
   ]
  },
  {
   "cell_type": "markdown",
   "metadata": {},
   "source": [
    "<div class=\"alert alert-block alert-info\">\n",
    "        <b> Consigne </b> \n",
    "<ul><li>Retenir pour la suite que vit correspond à la norme donc la valeur de la vitesse pour chaque position.</li>\n",
    "    <li>Justifier la formule écrite.</li>\n",
    "    </ul>"
   ]
  },
  {
   "cell_type": "code",
   "execution_count": null,
   "metadata": {},
   "outputs": [],
   "source": [
    "vit=[]\n",
    "for i in range(0,len(v_x)):\n",
    "    vit.append(sqrt(v_x[i]**2+v_y[i]**2)) #calcul de la valeur de la vitesse. En python la fonction racine carrée s'écrit sqrt et la puissance de 2 s'écrit **2"
   ]
  },
  {
   "cell_type": "markdown",
   "metadata": {},
   "source": [
    "<b> Représentation de la trajectoire et de la variation du vecteur vitesse du système </b>"
   ]
  },
  {
   "cell_type": "markdown",
   "metadata": {},
   "source": [
    "<div class=\"alert alert-block alert-info\">\n",
    "        <b> Consigne </b> \n",
    "<ul><li>Etablir la formule de la variation du vecteur vitesse pour chaque position Mi.</li>\n",
    "    <li>Décomposer cette formule selon ses composantes.</li>\n",
    "    </ul>"
   ]
  },
  {
   "cell_type": "code",
   "execution_count": null,
   "metadata": {},
   "outputs": [],
   "source": [
    "Dv_x=[]\n",
    "Dv_y=[]\n",
    "for i in range(1,len(v_x)-1):\n",
    "    Dv_x.append(XXX) #écrire la formule de la variation de l'abscisse du vecteur vitesse. On note v_x[i] l'abscisse du vecteur vitesse au point Mi\n",
    "    Dv_y.append(XXX) #écrire la formule de la variation de l'ordonnée du vecteur vitesse. On note v_y[i] l'ordonnée du vecteur vitesse au point Mi\n",
    "    \n",
    "def representation_graphique2(x,y,Dv_x,Dv_y):\n",
    "    plt.figure(figsize=(10,10))\n",
    "    plt.scatter(x,y,marker='+')\n",
    "    plt.title('Variation du vecteur vitesse')\n",
    "    plt.xlabel('x en (m)')\n",
    "    plt.ylabel('Altitude y en (m)')\n",
    "    plt.xlim(0.8*min(x),1.2*max(x))\n",
    "    plt.ylim(0.8*min(y),1.2*max(y))\n",
    "    for i in range(0,len(Dv_x)):\n",
    "        V=plt.quiver(x[i+2], y[i+2] ,2*Dv_x[i] , 2*Dv_y[i],\n",
    "         scale_units='xy',angles='xy', scale=12)\n",
    "representation_graphique2(x,y,Dv_x,Dv_y)"
   ]
  },
  {
   "cell_type": "markdown",
   "metadata": {},
   "source": [
    "<b> Calcul et affichage de la valeur moyenne de la variation du vecteur vitesse </b>"
   ]
  },
  {
   "cell_type": "code",
   "execution_count": null,
   "metadata": {},
   "outputs": [],
   "source": [
    "Dv=[]\n",
    "for i in range(0,len(Dv_y)):\n",
    "    Dv.append(sqrt(Dv_x[i]**2+Dv_y[i]**2)) #calcul de la valeur de la vitesse. En python la fonction racine carrée s'écrit sqrt et la puissance de 2 s'écrit **2\n",
    "Dvm=np.mean(Dv)\n",
    "print(Dvm)"
   ]
  },
  {
   "cell_type": "markdown",
   "metadata": {},
   "source": [
    "### 2. Etude énergétique"
   ]
  },
  {
   "cell_type": "markdown",
   "metadata": {},
   "source": [
    "<div class=\"alert alert-block alert-info\">\n",
    "        <b> Consigne </b> \n",
    "<ul><li>estimer la masse du système en faisant une recherche sur internet.</li>\n",
    "\n",
    "</ul>"
   ]
  },
  {
   "cell_type": "code",
   "execution_count": null,
   "metadata": {},
   "outputs": [],
   "source": [
    "m=XXX   #masse du système en kg\n",
    "g=9.81   #intensité de la pesanteur en N/kg"
   ]
  },
  {
   "cell_type": "markdown",
   "metadata": {},
   "source": [
    "<div class=\"alert alert-block alert-info\">\n",
    "        <b> Consigne </b> \n",
    "<ul><li>Etablir la formule de l'énergie cinétique.</li>\n",
    "<li>Etablir la formule de l'énergie potentielle de pesanteur.</li>\n",
    "</ul>"
   ]
  },
  {
   "cell_type": "markdown",
   "metadata": {},
   "source": [
    "<div class=\"alert alert-block alert-success\">\n",
    "    <details>\n",
    "        <summary> <b> Aides </b> </summary>\n",
    "        <ul>\n",
    "            <li> La variable vitesse, telle qu'écrite dans le programme, est vit.</li>\n",
    "            <li> La variable altitude, tel qu'écrite dans le programme, est y.  </li>\n",
    "        </ul>\n",
    "    </details>\n",
    "</div>"
   ]
  },
  {
   "cell_type": "code",
   "execution_count": null,
   "metadata": {},
   "outputs": [],
   "source": [
    "Ec=[]\n",
    "for i in range(0,len(vit)):\n",
    "    Ec.append(XXX)  #Ecrire la formule de l'énergie cinétique pour créer la liste Ec\n",
    "\n",
    "Ep=[]\n",
    "for i in range(0,len(y)):\n",
    "    Ep.append(XXX)  #Ecrire la formule de l'énergie potentiel de pesanteur pour créer la liste Ep \n",
    "Ep=Ep[1:-1]\n",
    "print(len(t))"
   ]
  },
  {
   "cell_type": "markdown",
   "metadata": {},
   "source": [
    "<div class=\"alert alert-block alert-info\">\n",
    "        <b> Consigne </b> \n",
    "<ul><li>Etablir la formule de l'énergie mécanique que possède le système à la position Mi.</li>\n",
    "</ul>"
   ]
  },
  {
   "cell_type": "code",
   "execution_count": null,
   "metadata": {},
   "outputs": [],
   "source": [
    "Em=[]\n",
    "for i in range(0,len(Ec)):\n",
    "    Em.append(XXX) #calcul de l'énergie mécanique pour chaque position Mi. On notera Ec[i] et Ep[i] les énergies cinétique et potentiel correspondantes"
   ]
  },
  {
   "cell_type": "code",
   "execution_count": null,
   "metadata": {},
   "outputs": [],
   "source": [
    "plt.figure(figsize=(10,10))\n",
    "plt.grid(True)\n",
    "plt.plot(t,Ec,marker='o',c='red') \n",
    "plt.plot(t,Ep,marker='o',c='blue')\n",
    "plt.plot(t,Em,marker='o',c='green') \n",
    "plt.xlabel(\"t en s\")\n",
    "plt.ylabel(\"Energie en J\")\n",
    "plt.title(\"Bilan énergétique\")\n",
    "red_patch = mpatches.Patch(color='red', label='Ec')\n",
    "blue_patch = mpatches.Patch(color='blue', label='Ep')\n",
    "green_patch = mpatches.Patch(color='green', label='Em')\n",
    "plt.legend(handles=[red_patch,blue_patch,green_patch ])\n",
    "plt.show()"
   ]
  },
  {
   "cell_type": "markdown",
   "metadata": {},
   "source": [
    "<font size=\"1\"> contact : sophie.gronlier@ac-lille.fr </font>"
   ]
  },
  {
   "cell_type": "code",
   "execution_count": null,
   "metadata": {},
   "outputs": [],
   "source": []
  }
 ],
 "metadata": {
  "kernelspec": {
   "display_name": "Python 3",
   "language": "python",
   "name": "python3"
  },
  "language_info": {
   "codemirror_mode": {
    "name": "ipython",
    "version": 3
   },
   "file_extension": ".py",
   "mimetype": "text/x-python",
   "name": "python",
   "nbconvert_exporter": "python",
   "pygments_lexer": "ipython3",
   "version": "3.7.6"
  }
 },
 "nbformat": 4,
 "nbformat_minor": 4
}
