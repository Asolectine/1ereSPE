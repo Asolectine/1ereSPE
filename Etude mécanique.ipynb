{
 "cells": [
  {
   "cell_type": "markdown",
   "metadata": {},
   "source": [
    "# Etude en mécanique"
   ]
  },
  {
   "cell_type": "markdown",
   "metadata": {},
   "source": [
    "L'objectif est de mener une analyse complète du mouvement d'un système dans un référentiel galiléen. C'est à dire établir et représenter :<ul> <li> son vecteur vitesse pour chacune des positions <li> la variation du vecteur vitesse pour chacune des positions <li> une étude énergétique (cinétique, potentielle et mécanique) </li> </ul>"
   ]
  },
  {
   "cell_type": "code",
   "execution_count": null,
   "metadata": {},
   "outputs": [],
   "source": [
    "import numpy as np\n",
    "import matplotlib.pyplot as plt\n",
    "import pandas as pd\n",
    "from math import *"
   ]
  },
  {
   "cell_type": "markdown",
   "metadata": {},
   "source": [
    "<b> Importer les données expérimentales. </b>"
   ]
  },
  {
   "cell_type": "markdown",
   "metadata": {},
   "source": [
    "Il faut indiquer le nom du fichier en csv et son chemin d'accès. <br> Ce fichier ne doit contenir <b> QUE</b> les valeurs expérimentales, il faut donc supprimer d'abord toute entête de paramètre, unité, titre etc.... <br> L'exemple par défaut est <i> C:\\bureau\\pointage.csv </i>, il convient de changer bien évidement cette chaine de caractères dans le code. <br> Attention à conserver les ' déjà présent ci-dessous."
   ]
  },
  {
   "cell_type": "code",
   "execution_count": null,
   "metadata": {},
   "outputs": [],
   "source": [
    "mesures=pd.read_csv(r'C:\\bureau\\pointage.csv',sep=';',decimal=',')"
   ]
  },
  {
   "cell_type": "markdown",
   "metadata": {},
   "source": [
    "<b> Extraction des données relatives à chaque position </b>"
   ]
  },
  {
   "cell_type": "code",
   "execution_count": null,
   "metadata": {},
   "outputs": [],
   "source": [
    "mesures=pd.DataFrame(mesures).to_numpy()\n",
    "\n",
    "# extraction du nombre totale de positions successives mesurées appelé nbr\n",
    "nbr=len(mesures)\n",
    "\n",
    "# extraction du temps et des positions au cours du mouvement\n",
    "t=list(mesures.T[XXX])  #Indiquer le numéro de la colonne correspondant aux valeurs de la durée t \n",
    "x=list(mesures.T[XXX])  #Indiquer le numéro de la colonne correspondant aux valeurs des abscisses x\n",
    "y=list(mesures.T[XXX])  #Indiquer le numéro de la colonne correspondant aux valeurs des ordonnées y\n",
    "\n",
    "# Calcul de l'intervalle Tau de temps entre deux positions successives\n",
    "Tau=t[1]-t[0]"
   ]
  },
  {
   "cell_type": "code",
   "execution_count": null,
   "metadata": {},
   "outputs": [],
   "source": [
    "t=t[1:-1]"
   ]
  },
  {
   "cell_type": "markdown",
   "metadata": {},
   "source": [
    "### 1. Cinématique du mouvement"
   ]
  },
  {
   "cell_type": "markdown",
   "metadata": {},
   "source": [
    "<b> Représentation de la trajectoire du vitesse du système </b>"
   ]
  },
  {
   "cell_type": "code",
   "execution_count": null,
   "metadata": {},
   "outputs": [],
   "source": [
    "v_x=[]\n",
    "v_y=[]\n",
    "for i in range(1,len(x)-1):\n",
    "    v_x.append(XXX)     #écrire la formule de la vitesse pour les abscisses de position. On note x[i] l'abscisse du point Mi\n",
    "    v_y.append(XXX)     #écrire la formule de la vitesse pour les ordonnées de position. On note y[i] l'abscisse du point Mi\n",
    "\n",
    "def representation_graphique1(x,y,v_x,v_y):\n",
    "    plt.figure(figsize=(10,10))\n",
    "    plt.scatter(x,y,marker='+')\n",
    "    plt.title('Vecteur vitesse')\n",
    "    plt.xlabel('x en (m)')\n",
    "    plt.ylabel('Altitude y en (m)')\n",
    "    plt.xlim(0.8*min(x),1.2*max(x))\n",
    "    plt.ylim(0.8*min(y),1.2*max(y))\n",
    "    for i in range(0,len(v_x),1):\n",
    "        V=plt.quiver(x[i+1], y[i+1] ,2*v_x[i] ,2*v_y[i],\n",
    "         scale_units='xy',angles='xy', scale=12)\n",
    "representation_graphique1(x,y,v_x,v_y)"
   ]
  },
  {
   "cell_type": "markdown",
   "metadata": {},
   "source": [
    "<b> Calcul de la norme des différents vecteur vitesse nommés vit </b>"
   ]
  },
  {
   "cell_type": "code",
   "execution_count": null,
   "metadata": {},
   "outputs": [],
   "source": [
    "vit=[]\n",
    "for i in range(0,len(v_x)):\n",
    "    vit.append(sqrt(v_x[i]**2+v_y[i]**2)) #calcul de la valeur de la vitesse. en python la fonction racine carrée s'écrit sqrt et la puissance de 2 s'écrit **2"
   ]
  },
  {
   "cell_type": "markdown",
   "metadata": {},
   "source": [
    "# Représentation de la trajectoire et de la variation du vecteur vitesse du système"
   ]
  },
  {
   "cell_type": "code",
   "execution_count": null,
   "metadata": {},
   "outputs": [],
   "source": [
    "Dv_x=[]\n",
    "Dv_y=[]\n",
    "for i in range(1,len(v_x)-1):\n",
    "    Dv_x.append(XXX) #écrire la formule de la variation de l'abscisse du vecteur vitesse. On note v_x[i] l'abscisse du vecteur vitesse au point Mi\n",
    "    Dv_y.append(XXX) #écrire la formule de la variation de l'ordonnée du vecteur vitesse. On note v_y[i] l'ordonnée du vecteur vitesse au point Mi\n",
    "    \n",
    "def representation_graphique2(x,y,Dv_x,Dv_y):\n",
    "    plt.figure(figsize=(10,10))\n",
    "    plt.scatter(x,y,marker='+')\n",
    "    plt.title('Variation du vecteur vitesse')\n",
    "    plt.xlabel('x en (m)')\n",
    "    plt.ylabel('Altitude y en (m)')\n",
    "    plt.xlim(0.8*min(x),1.2*max(x))\n",
    "    plt.ylim(0.8*min(y),1.2*max(y))\n",
    "    for i in range(0,len(Dv_x)):\n",
    "        V=plt.quiver(x[i+2], y[i+2] ,0.2*Dv_x[i] ,0.2*Dv_y[i],\n",
    "         scale_units='xy',angles='xy', scale=12)\n",
    "representation_graphique2(x,y,Dv_x,Dv_y)"
   ]
  },
  {
   "cell_type": "markdown",
   "metadata": {},
   "source": [
    "### 2. Etude énergétique"
   ]
  },
  {
   "cell_type": "markdown",
   "metadata": {},
   "source": [
    "Données supplémentaires"
   ]
  },
  {
   "cell_type": "code",
   "execution_count": null,
   "metadata": {},
   "outputs": [],
   "source": [
    "m=XXX   #masse du système en kg\n",
    "g=9.81   #intensité de la pesanteur en N/kg"
   ]
  },
  {
   "cell_type": "code",
   "execution_count": null,
   "metadata": {},
   "outputs": [],
   "source": [
    "Ec=[XXX for v in vit]  #Ecrire la formule de l'énergie cinétique pour créer la liste Ec\n",
    "Ep=[XXX for z in y]   #Ecrire la formule de l'énergie potentiel de pesanteur pour créer la liste Ep\n",
    "Ep=Ep[1:-1]\n",
    "\n",
    "Em=[]\n",
    "for i in range(0,len(Ec)):\n",
    "    Em.append(XXX) #calcul de l'énergie mécanique pour chaque position Mi. On notera Ec[i] et Ep[i] les énergies cinétique et potentiel correspondantes\n",
    "    \n",
    "\n",
    "plt.figure(figsize=(10,10))\n",
    "plt.grid(True)\n",
    "plt.scatter(t,Ec,c='red') #ligne ajoutée par rapport au sujet qui permet de faire figurer les points\n",
    "plt.plot(t,Ec,\"red\")\n",
    "plt.scatter(t,Ep,c='blue') #ligne ajoutée par rapport au sujet qui permet de faire figurer les points\n",
    "plt.plot(t,Ep,\"blue\")\n",
    "plt.scatter(t,Em,c='green') #ligne ajoutée par rapport au sujet qui permet de faire figurer les points\n",
    "plt.plot(t,Em,\"green\")\n",
    "\n",
    "plt.xlabel(\"t en s\")\n",
    "plt.ylabel(\"Energie en J\")\n",
    "\n",
    "plt.title(\"Bilan énergétique\")\n",
    "\n",
    "plt.show()"
   ]
  },
  {
   "cell_type": "markdown",
   "metadata": {},
   "source": [
    "<font size=\"1\"> contact : sophie.gronlier@ac-lille.fr </font>"
   ]
  }
 ],
 "metadata": {
  "kernelspec": {
   "display_name": "Python 3",
   "language": "python",
   "name": "python3"
  },
  "language_info": {
   "codemirror_mode": {
    "name": "ipython",
    "version": 3
   },
   "file_extension": ".py",
   "mimetype": "text/x-python",
   "name": "python",
   "nbconvert_exporter": "python",
   "pygments_lexer": "ipython3",
   "version": "3.7.6"
  }
 },
 "nbformat": 4,
 "nbformat_minor": 4
}
